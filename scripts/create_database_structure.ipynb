{
 "cells": [
  {
   "cell_type": "code",
   "execution_count": 13,
   "metadata": {},
   "outputs": [
    {
     "name": "stdout",
     "output_type": "stream",
     "text": [
      "Successfully connected to the database\n"
     ]
    }
   ],
   "source": [
    "import sys\n",
    "import os\n",
    "\n",
    "sys.path.append(os.path.dirname(os.getcwd()))\n",
    "\n",
    "from config import my_config\n",
    "import mysql.connector\n",
    "\n",
    "# Connect to the MySQL database\n",
    "try:\n",
    "    conn = mysql.connector.connect(\n",
    "        host=my_config.HOST,\n",
    "        user=my_config.USER_NAME,\n",
    "        password=my_config.PSWD,\n",
    "        database=my_config.DATABASE_NAME\n",
    "    )\n",
    "    if conn.is_connected():\n",
    "        print(\"Successfully connected to the database\")\n",
    "except mysql.connector.Error as err:\n",
    "    print(f\"Error: {err}\")\n"
   ]
  },
  {
   "cell_type": "code",
   "execution_count": 17,
   "metadata": {},
   "outputs": [
    {
     "name": "stdout",
     "output_type": "stream",
     "text": [
      "Table course created with structure: course_id INT NOT NULL AUTO_INCREMENT PRIMARY KEY, course_name VARCHAR(100) NOT NULL\n",
      "Table course_student created with structure: course_id INT NOT NULL, student_id INT NOT NULL, PRIMARY KEY (course_id, student_id)\n",
      "Table student created with structure: student_id INT NOT NULL AUTO_INCREMENT PRIMARY KEY, student_name VARCHAR(100) NOT NULL\n",
      "Table teacher created with structure: teacher_id INT NOT NULL AUTO_INCREMENT PRIMARY KEY, teacher_name VARCHAR(100) NOT NULL\n"
     ]
    }
   ],
   "source": [
    "cursor = conn.cursor()\n",
    "# Create a new schema\n",
    "cursor.execute(\"CREATE SCHEMA IF NOT EXISTS attendance_system\")\n",
    "\n",
    "# Use the new schema\n",
    "cursor.execute(\"USE attendance_system\")\n",
    "\n",
    "# Create tables with hardcoded structure\n",
    "tables_structure = {\n",
    "    'course': [\n",
    "        ('course_id', 'INT', 'NOT NULL', 'AUTO_INCREMENT', 'PRIMARY KEY'),\n",
    "        ('course_name', 'VARCHAR(100)', 'NOT NULL')\n",
    "    ],\n",
    "    'course_student': [\n",
    "        ('course_id', 'INT', 'NOT NULL'),\n",
    "        ('student_id', 'INT', 'NOT NULL'),\n",
    "        ('PRIMARY KEY', '(course_id, student_id)')\n",
    "    ],\n",
    "    'student': [\n",
    "        ('student_id', 'INT', 'NOT NULL', 'AUTO_INCREMENT', 'PRIMARY KEY'),\n",
    "        ('student_name', 'VARCHAR(100)', 'NOT NULL')\n",
    "    ],\n",
    "    'teacher': [\n",
    "        ('teacher_id', 'INT', 'NOT NULL', 'AUTO_INCREMENT', 'PRIMARY KEY'),\n",
    "        ('teacher_name', 'VARCHAR(100)', 'NOT NULL')\n",
    "    ]\n",
    "}\n",
    "\n",
    "for table_name, columns in tables_structure.items():\n",
    "    columns_def = \", \".join([\" \".join(column) for column in columns])\n",
    "    create_table_query = f\"CREATE TABLE IF NOT EXISTS {table_name} ({columns_def})\"\n",
    "    cursor.execute(create_table_query)\n",
    "    print(f\"Table {table_name} created with structure: {columns_def}\")\n",
    "\n",
    "# Commit the changes\n",
    "conn.commit()\n"
   ]
  }
 ],
 "metadata": {
  "kernelspec": {
   "display_name": "SE",
   "language": "python",
   "name": "python3"
  },
  "language_info": {
   "codemirror_mode": {
    "name": "ipython",
    "version": 3
   },
   "file_extension": ".py",
   "mimetype": "text/x-python",
   "name": "python",
   "nbconvert_exporter": "python",
   "pygments_lexer": "ipython3",
   "version": "3.10.15"
  }
 },
 "nbformat": 4,
 "nbformat_minor": 2
}
