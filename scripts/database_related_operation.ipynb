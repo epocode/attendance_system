{
 "cells": [
  {
   "cell_type": "code",
   "execution_count": 1,
   "metadata": {},
   "outputs": [],
   "source": [
    "from PySide6.QtSql import QSqlDatabase\n",
    "from mysql import connector\n",
    "\n",
    "conn = connector.connect(    \n",
    "    host='localhost',\n",
    "    user='root',\n",
    "    password='root')\n",
    "\n",
    "cursor = conn.cursor()\n"
   ]
  },
  {
   "cell_type": "code",
   "execution_count": 5,
   "metadata": {},
   "outputs": [
    {
     "name": "stdout",
     "output_type": "stream",
     "text": [
      "('course',)\n",
      "[('course_name', 'varchar(100)', 'NO', 'PRI', None, ''), ('teacher_username', 'varchar(100)', 'NO', 'MUL', None, '')]\n",
      "\n",
      "('course_student',)\n",
      "[('student_id', 'int', 'YES', 'MUL', None, ''), ('course_name', 'varchar(100)', 'YES', 'MUL', None, '')]\n",
      "\n",
      "('student',)\n",
      "[('id', 'int', 'NO', 'PRI', None, 'auto_increment'), ('gender', \"enum('男','女')\", 'YES', '', None, ''), ('age', 'char(3)', 'YES', '', None, ''), ('name', 'varchar(100)', 'YES', '', None, '')]\n",
      "\n",
      "('teacher',)\n",
      "[('name', 'varchar(100)', 'NO', '', None, ''), ('username', 'varchar(100)', 'NO', 'PRI', None, ''), ('password', 'varchar(100)', 'NO', '', None, '')]\n",
      "\n"
     ]
    }
   ],
   "source": [
    "cursor.execute(\"SHOW TABLES\")\n",
    "tables = cursor.fetchall()\n",
    "for table in tables:\n",
    "    print(table)\n",
    "    cursor.execute(f\"DESC {table[0]}\")\n",
    "    print(cursor.fetchall())\n",
    "    print()\n",
    "    "
   ]
  },
  {
   "cell_type": "code",
   "execution_count": 9,
   "metadata": {
    "vscode": {
     "languageId": "sql"
    }
   },
   "outputs": [],
   "source": [
    "# 该格子用于创建对应的表。包括学生表，教师表，课程表，课程学生表，考勤表\n",
    "\n",
    "# 开始事务\n",
    "conn.start_transaction()\n",
    "\n",
    "try:\n",
    "    # Create the schema\n",
    "    create_schema = \"CREATE SCHEMA IF NOT EXISTS attendance_system\"\n",
    "    cursor.execute(create_schema)\n",
    "\n",
    "    # Switch to the new schema\n",
    "    cursor.execute(\"USE attendance_system\")\n",
    "\n",
    "    # Create the teacher table\n",
    "    create_teacher_table = \"\"\"\n",
    "    CREATE TABLE IF NOT EXISTS teacher (\n",
    "        name VARCHAR(100) NOT NULL,\n",
    "        username VARCHAR(100) NOT NULL PRIMARY KEY,\n",
    "        password VARCHAR(100) NOT NULL\n",
    "    )\n",
    "    \"\"\"\n",
    "    cursor.execute(create_teacher_table)\n",
    "\n",
    "    # Create the student table\n",
    "    create_student_table = \"\"\"\n",
    "    CREATE TABLE IF NOT EXISTS student (\n",
    "        id INT NOT NULL AUTO_INCREMENT PRIMARY KEY,\n",
    "        gender ENUM('男', '女') NULL,\n",
    "        age CHAR(3) NULL,\n",
    "        name VARCHAR(100) NULL\n",
    "    )\n",
    "    \"\"\"\n",
    "    cursor.execute(create_student_table)\n",
    "\n",
    "    # Create the course table\n",
    "    create_course_table = \"\"\"\n",
    "    CREATE TABLE IF NOT EXISTS course (\n",
    "        course_name VARCHAR(100) NOT NULL PRIMARY KEY,\n",
    "        teacher_username VARCHAR(100) NOT NULL,\n",
    "        FOREIGN KEY (teacher_username) REFERENCES teacher(username) On DELETE CASCADE\n",
    "    )\n",
    "    \"\"\"\n",
    "    cursor.execute(create_course_table)\n",
    "\n",
    "    # Create the course_student table\n",
    "    create_course_student_table = \"\"\"\n",
    "    CREATE TABLE IF NOT EXISTS course_student (\n",
    "        course_name VARCHAR(100) NOT NULL,\n",
    "        student_id INT NOT NULL,\n",
    "        PRIMARY KEY (course_name, student_id),\n",
    "        FOREIGN KEY (course_name) REFERENCES course(course_name) ON DELETE CASCADE,\n",
    "        FOREIGN KEY (student_id) REFERENCES student(id) ON DELETE CASCADE\n",
    "    )\n",
    "    \"\"\"\n",
    "    cursor.execute(create_course_student_table)\n",
    "\n",
    "    # Create the attendance_info table\n",
    "    create_attendance_info_table = \"\"\"\n",
    "    CREATE TABLE IF NOT EXISTS attendance_info (\n",
    "        date DATE NOT NULL,\n",
    "        stu_id INT NOT NULL,\n",
    "        course_name VARCHAR(100) NOT NULL,\n",
    "        is_attendance BOOLEAN NOT NULL,\n",
    "        PRIMARY KEY (date, stu_id, course_name),\n",
    "        FOREIGN KEY (stu_id) REFERENCES student(id) ON DELETE CASCADE,\n",
    "        FOREIGN KEY (course_name) REFERENCES course(course_name) ON DELETE CASCADE\n",
    "    )\n",
    "    \"\"\"\n",
    "    cursor.execute(create_attendance_info_table)\n",
    "\n",
    "    # Commit the changes\n",
    "    conn.commit()\n",
    "except Exception as e:\n",
    "    # 如果发生错误，回滚事务\n",
    "    conn.rollback()\n",
    "    print(f\"An error occurred: {e}\")"
   ]
  },
  {
   "cell_type": "code",
   "execution_count": 10,
   "metadata": {},
   "outputs": [],
   "source": [
    "# Retrieve the list of tables in the schema\n",
    "cursor.execute(\"\"\"\n",
    "SELECT TABLE_NAME\n",
    "FROM INFORMATION_SCHEMA.TABLES\n",
    "WHERE TABLE_SCHEMA = 'attendance_system'\n",
    "\"\"\")\n",
    "tables = cursor.fetchall()\n",
    "\n",
    "# Delete the content of each table\n",
    "try:\n",
    "    try:\n",
    "        conn.rollback()\n",
    "        print(\"回滚了之前可能存在的事务\")\n",
    "    except:\n",
    "        pass\n",
    "    # Start transaction\n",
    "    conn.start_transaction()\n",
    "\n",
    "    # Disable foreign key checks\n",
    "    cursor.execute(\"SET FOREIGN_KEY_CHECKS = 0\")\n",
    "\n",
    "    for table in tables:\n",
    "        table_name = table[0]\n",
    "        cursor.execute(f\"DELETE FROM {table_name}\")\n",
    "        print(f\"All content deleted from table: {table_name}\")\n",
    "\n",
    "    # Enable foreign key checks\n",
    "    cursor.execute(\"SET FOREIGN_KEY_CHECKS = 1\")\n",
    "\n",
    "    # Commit transaction\n",
    "    conn.commit()\n",
    "except Exception as e:\n",
    "    # Rollback transaction in case of error\n",
    "    conn.rollback()\n",
    "    print(f\"An error occurred: {e}\")\n"
   ]
  },
  {
   "cell_type": "code",
   "execution_count": 2,
   "metadata": {},
   "outputs": [
    {
     "data": {
      "text/plain": [
       "[('new',)]"
      ]
     },
     "execution_count": 2,
     "metadata": {},
     "output_type": "execute_result"
    }
   ],
   "source": [
    "query = '''\n",
    "        SHOW TABLES'''\n",
    "\n",
    "cursor.execute(query)\n",
    "result = cursor.fetchall()\n",
    "result"
   ]
  },
  {
   "cell_type": "code",
   "execution_count": 3,
   "metadata": {},
   "outputs": [
    {
     "data": {
      "text/plain": [
       "[('x',)]"
      ]
     },
     "execution_count": 3,
     "metadata": {},
     "output_type": "execute_result"
    }
   ],
   "source": [
    "q = \"\"\"\n",
    "    SELECT name\n",
    "    FROM new\n",
    "    WHERE id = 1\"\"\"\n",
    "\n",
    "cursor.execute(q)\n",
    "res = cursor.fetchall()\n",
    "res"
   ]
  },
  {
   "cell_type": "code",
   "execution_count": 15,
   "metadata": {},
   "outputs": [],
   "source": [
    "query = \"\"\"\n",
    "        SELECT COUNT(*)\n",
    "        FROM INFORMATION_SCHEMA.COLUMNS\n",
    "        WHERE table_name = 'class1';\n",
    "\"\"\"\n",
    "table = 'class1'\n",
    "cursor.execute('SELECT COUNT(*) FROM %s' %  table)\n",
    "results = cursor.fetchone()\n"
   ]
  },
  {
   "cell_type": "code",
   "execution_count": 14,
   "metadata": {},
   "outputs": [
    {
     "name": "stdout",
     "output_type": "stream",
     "text": [
      "(4,)\n"
     ]
    }
   ],
   "source": [
    "print(results)"
   ]
  },
  {
   "cell_type": "code",
   "execution_count": null,
   "metadata": {},
   "outputs": [],
   "source": [
    "table_name = 'class1'\n",
    "cursor.execute(\"\"\"\n",
    "    SELECT COLUMN_NAME\n",
    "    FROM INFORMATION_SCHEMA.COLUMNS\n",
    "    WHERE TABLE_NAME = '%s'\n",
    "\"\"\" % table_name)\n",
    "\n",
    "# 获取列名\n",
    "\n"
   ]
  },
  {
   "cell_type": "code",
   "execution_count": 19,
   "metadata": {},
   "outputs": [],
   "source": [
    "table_name = 'class1'\n",
    "sql =f\"INSERT INTO {table_name} (name, gender, age) VALUES(%s, %s, %s)\"\n",
    "cursor.execute(sql, [ 'e', 'male', 18])  \n"
   ]
  },
  {
   "cell_type": "code",
   "execution_count": 18,
   "metadata": {},
   "outputs": [
    {
     "name": "stdout",
     "output_type": "stream",
     "text": [
      "[(1, 'a', 'female', 18), (2, 'b', 'male', 18), (3, 'c', 'male', 18), (4, 'd', 'male', 18)]\n"
     ]
    }
   ],
   "source": [
    "cursor.execute('SELECT * FROM class1')\n",
    "results = cursor.fetchall()\n",
    "print(results)"
   ]
  },
  {
   "cell_type": "code",
   "execution_count": 3,
   "metadata": {},
   "outputs": [],
   "source": [
    "sql = f'SELECT id, name FROM test'\n",
    "cursor.execute(sql)\n",
    "res = cursor.fetchall()"
   ]
  },
  {
   "cell_type": "code",
   "execution_count": 4,
   "metadata": {},
   "outputs": [
    {
     "data": {
      "text/plain": [
       "[(1, 'a'), (2, 'trump')]"
      ]
     },
     "execution_count": 4,
     "metadata": {},
     "output_type": "execute_result"
    }
   ],
   "source": [
    "res"
   ]
  }
 ],
 "metadata": {
  "kernelspec": {
   "display_name": "SE",
   "language": "python",
   "name": "python3"
  },
  "language_info": {
   "codemirror_mode": {
    "name": "ipython",
    "version": 3
   },
   "file_extension": ".py",
   "mimetype": "text/x-python",
   "name": "python",
   "nbconvert_exporter": "python",
   "pygments_lexer": "ipython3",
   "version": "3.10.15"
  }
 },
 "nbformat": 4,
 "nbformat_minor": 2
}
