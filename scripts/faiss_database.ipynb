{
 "cells": [
  {
   "cell_type": "code",
   "execution_count": 36,
   "metadata": {},
   "outputs": [],
   "source": [
    "import faiss\n",
    "import os\n",
    "\n",
    "# 构造 FAISS 向量数据库的路径\n",
    "current_dir = os.getcwd()\n",
    "faiss_index_path = os.path.join(current_dir, \"..\", \"data\", \"vec_databases\", \"vecdb.faiss\")\n",
    "\n",
    "# 加载本地 FAISS 向量数据库\n",
    "vec_db = faiss.IndexIDMap(faiss.IndexFlatIP(512))\n",
    "\n"
   ]
  },
  {
   "cell_type": "code",
   "execution_count": 33,
   "metadata": {},
   "outputs": [],
   "source": [
    "import os\n",
    "import cv2\n",
    "import numpy as np\n",
    "from ultralytics import YOLO\n",
    "import torch\n",
    "from PIL import Image\n",
    "import sys\n",
    "sys.path.append(os.path.join(current_dir, \"..\"))\n",
    "from src.outer_lab.facenet_pytorch import InceptionResnetV1\n",
    "\n",
    "# Load YOLOv8 face detection model\n",
    "face_detector = YOLO(\"train_model/train2/weights/best.pt\")\n",
    "\n",
    "# Load face feature extractor (assuming you're using a model like FaceNet or similar)\n",
    "# This is a placeholder - replace with your actual feature extraction model\n",
    "feature_extractor = InceptionResnetV1(pretrained='vggface2').eval()\n",
    "\n",
    "# Function to process image and find matches\n",
    "def process_image_and_find_matches(image_path, top_k=5):\n",
    "    # Load and process the image\n",
    "    img = cv2.imread(image_path)\n",
    "    if img is None:\n",
    "        print(f\"Failed to load image: {image_path}\")\n",
    "        return []\n",
    "    \n",
    "    # Detect faces using YOLOv8\n",
    "    results = face_detector(img)\n",
    "    \n",
    "    matches = []\n",
    "    \n",
    "    # Process each detected face\n",
    "    for result in results:\n",
    "        boxes = result.boxes\n",
    "        for box in boxes:\n",
    "            # Get face bounding box coordinates\n",
    "            x1, y1, x2, y2 = map(int, box.xyxy[0].tolist())\n",
    "            \n",
    "            # Extract the face\n",
    "            face = img[y1:y2, x1:x2]\n",
    "            \n",
    "            # Preprocess face for feature extraction\n",
    "            face_pil = Image.fromarray(cv2.cvtColor(face, cv2.COLOR_BGR2RGB))\n",
    "            face_pil = face_pil.resize((160, 160))  # Adjust size according to your feature extractor\n",
    "            face_tensor = torch.from_numpy(np.array(face_pil)).permute(2, 0, 1).float().unsqueeze(0) / 255.0\n",
    "            \n",
    "            # Extract face features\n",
    "            with torch.no_grad():\n",
    "                face_embedding = feature_extractor(face_tensor)\n",
    "                face_embedding = face_embedding.cpu().numpy()\n",
    "                face_embedding = face_embedding / np.linalg.norm(face_embedding)  # Normalize the embedding\n",
    "                \n",
    "            return face_embedding\n"
   ]
  },
  {
   "cell_type": "code",
   "execution_count": 34,
   "metadata": {},
   "outputs": [
    {
     "name": "stdout",
     "output_type": "stream",
     "text": [
      "\n",
      "0: 544x640 1 face, 17.8ms\n",
      "Speed: 7.5ms preprocess, 17.8ms inference, 4.5ms postprocess per image at shape (1, 3, 544, 640)\n"
     ]
    }
   ],
   "source": [
    "image_path = \"../data/photos/face1.png\"\n",
    "feature = process_image_and_find_matches(image_path)\n"
   ]
  },
  {
   "cell_type": "code",
   "execution_count": 35,
   "metadata": {},
   "outputs": [
    {
     "data": {
      "text/plain": [
       "(array([[   0.073315,    0.025664, -3.4028e+38, -3.4028e+38, -3.4028e+38]], dtype=float32),\n",
       " array([[2008, 2007,   -1,   -1,   -1]], dtype=int64))"
      ]
     },
     "execution_count": 35,
     "metadata": {},
     "output_type": "execute_result"
    }
   ],
   "source": [
    "type(feature)\n",
    "res = index.search(feature, 5)\n",
    "res"
   ]
  }
 ],
 "metadata": {
  "kernelspec": {
   "display_name": "SE",
   "language": "python",
   "name": "python3"
  },
  "language_info": {
   "codemirror_mode": {
    "name": "ipython",
    "version": 3
   },
   "file_extension": ".py",
   "mimetype": "text/x-python",
   "name": "python",
   "nbconvert_exporter": "python",
   "pygments_lexer": "ipython3",
   "version": "3.10.15"
  }
 },
 "nbformat": 4,
 "nbformat_minor": 2
}
