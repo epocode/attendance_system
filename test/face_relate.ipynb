{
 "cells": [
  {
   "cell_type": "code",
   "execution_count": 51,
   "metadata": {},
   "outputs": [],
   "source": [
    "import cv2\n",
    "from ultralytics import YOLO\n",
    "import os\n",
    "import matplotlib.pyplot as plt\n",
    "import dlib\n",
    "import numpy as np\n",
    "\n",
    "proj_path = os.path.abspath(os.path.join(os.getcwd(), '..'))\n",
    "predictor = dlib.shape_predictor(os.path.join(proj_path, 'data/weights/shape_predictor_68_face_landmarks.dat'))\n",
    "model = YOLO(os.path.join(proj_path, 'scripts/train_model/train2/weights/best.pt'))\n",
    "\n",
    "def get_face_feature(img_name):\n",
    "    img = cv2.imread(os.path.join(proj_path, 'data/photos/' + img_name))\n",
    "    img_rgb = cv2.cvtColor(img, cv2.COLOR_BGR2RGB)\n",
    "    results = model(img_rgb)\n",
    "    results_boxes = results[0].boxes\n",
    "    x1, y1, x2, y2 = list(map(int, results_boxes.xyxy[0].tolist()))\n",
    "\n",
    "    gray = cv2.cvtColor(img, cv2.COLOR_BGR2GRAY)\n",
    "    face = dlib.rectangle(x1, y1, x2, y2)\n",
    "    landmarks = predictor(gray, face)   \n",
    "    aligned_face = dlib.get_face_chip(img, landmarks)\n",
    "    face_recognizer = dlib.face_recognition_model_v1(os.path.join(proj_path, 'data/weights/dlib_face_recognition_resnet_model_v1.dat'))\n",
    "    face_feature = face_recognizer.compute_face_descriptor(aligned_face)\n",
    "    return np.array(face_feature).reshape(1, -1), results\n"
   ]
  },
  {
   "cell_type": "code",
   "execution_count": null,
   "metadata": {},
   "outputs": [],
   "source": [
    "import faiss\n",
    "\n",
    "\n",
    "index = faiss.IndexFlatL2(128)\n",
    "index = faiss.IndexIDMap(index)"
   ]
  },
  {
   "cell_type": "code",
   "execution_count": 56,
   "metadata": {},
   "outputs": [
    {
     "name": "stdout",
     "output_type": "stream",
     "text": [
      "\n",
      "0: 384x640 2 faces, 81.0ms\n",
      "Speed: 5.0ms preprocess, 81.0ms inference, 11.0ms postprocess per image at shape (1, 3, 384, 640)\n"
     ]
    }
   ],
   "source": [
    "ff1, results = get_face_feature('two_face.jpg')\n",
    "dis1, ids1 = index.search(ff1, 1)\n",
    "# ff2 = get_face_feature('trump.jpg')\n",
    "# dis2, ids2 = index.search(ff2, 1)\n",
    "# ff3 = get_face_feature('biden.jpg')\n",
    "# dis3, _ = index.search(ff3, 1)"
   ]
  },
  {
   "cell_type": "code",
   "execution_count": 64,
   "metadata": {},
   "outputs": [
    {
     "data": {
      "text/plain": [
       "torch.Size([1, 4])"
      ]
     },
     "execution_count": 64,
     "metadata": {},
     "output_type": "execute_result"
    }
   ],
   "source": [
    "boxes = results[0].boxes\n",
    "box = boxes[0].xyxy.shape\n",
    "box"
   ]
  }
 ],
 "metadata": {
  "kernelspec": {
   "display_name": "SE",
   "language": "python",
   "name": "python3"
  },
  "language_info": {
   "codemirror_mode": {
    "name": "ipython",
    "version": 3
   },
   "file_extension": ".py",
   "mimetype": "text/x-python",
   "name": "python",
   "nbconvert_exporter": "python",
   "pygments_lexer": "ipython3",
   "version": "3.10.15"
  }
 },
 "nbformat": 4,
 "nbformat_minor": 2
}
