{
 "cells": [
  {
   "cell_type": "code",
   "execution_count": 1,
   "metadata": {},
   "outputs": [],
   "source": [
    "import cv2\n",
    "from ultralytics import YOLO\n",
    "import os\n",
    "import matplotlib.pyplot as plt\n",
    "import dlib\n",
    "import numpy as np\n",
    "\n",
    "proj_path = os.path.abspath(os.path.join(os.getcwd(), '..'))\n",
    "predictor = dlib.shape_predictor(os.path.join(proj_path, 'data/weights/shape_predictor_68_face_landmarks.dat'))\n",
    "model = YOLO(os.path.join(proj_path, 'scripts/train_model/train2/weights/best.pt'))\n",
    "\n",
    "def get_face_feature(img_name):\n",
    "    img = cv2.imread(os.path.join(proj_path, 'data/photos/' + img_name))\n",
    "    img_rgb = cv2.cvtColor(img, cv2.COLOR_BGR2RGB)\n",
    "    results = model(img_rgb)\n",
    "    results_boxes = results[0].boxes\n",
    "    x1, y1, x2, y2 = list(map(int, results_boxes.xyxy[0].tolist()))\n",
    "\n",
    "    gray = cv2.cvtColor(img, cv2.COLOR_BGR2GRAY)\n",
    "    face = dlib.rectangle(x1, y1, x2, y2)\n",
    "    landmarks = predictor(gray, face)   \n",
    "    aligned_face = dlib.get_face_chip(img, landmarks)\n",
    "    face_recognizer = dlib.face_recognition_model_v1(os.path.join(proj_path, 'data/weights/dlib_face_recognition_resnet_model_v1.dat'))\n",
    "    face_feature = face_recognizer.compute_face_descriptor(aligned_face)\n",
    "    print(face_feature.shape)\n",
    "    return np.array(face_feature).reshape(1, -1), results\n"
   ]
  },
  {
   "cell_type": "code",
   "execution_count": 1,
   "metadata": {},
   "outputs": [],
   "source": [
    "import cv2\n",
    "from ultralytics import YOLO\n",
    "import os\n",
    "import matplotlib.pyplot as plt\n",
    "import dlib\n",
    "import numpy as np"
   ]
  },
  {
   "cell_type": "code",
   "execution_count": 3,
   "metadata": {},
   "outputs": [],
   "source": [
    "img = cv2.imread('C:/Users/shann/Desktop/SE/attendance_system/data/photos/biden.jpg')"
   ]
  },
  {
   "cell_type": "code",
   "execution_count": 5,
   "metadata": {},
   "outputs": [],
   "source": [
    "model = YOLO('C:/Users/shann/Desktop/SE/attendance_system/scripts/train_model/train2/weights/best.pt')"
   ]
  },
  {
   "cell_type": "code",
   "execution_count": 7,
   "metadata": {},
   "outputs": [
    {
     "name": "stdout",
     "output_type": "stream",
     "text": [
      "\n",
      "0: 448x640 1 face, 56.8ms\n",
      "Speed: 20.5ms preprocess, 56.8ms inference, 325.0ms postprocess per image at shape (1, 3, 448, 640)\n"
     ]
    }
   ],
   "source": [
    "res = model(img)"
   ]
  },
  {
   "cell_type": "code",
   "execution_count": 10,
   "metadata": {},
   "outputs": [
    {
     "data": {
      "text/plain": [
       "ultralytics.engine.results.Boxes object with attributes:\n",
       "\n",
       "cls: tensor([0.], device='cuda:0')\n",
       "conf: tensor([0.8802], device='cuda:0')\n",
       "data: tensor([[1.1629e+03, 1.7898e+02, 1.6600e+03, 8.6872e+02, 8.8022e-01, 0.0000e+00]], device='cuda:0')\n",
       "id: None\n",
       "is_track: False\n",
       "orig_shape: (1366, 2048)\n",
       "shape: torch.Size([1, 6])\n",
       "xywh: tensor([[1411.4337,  523.8481,  497.1584,  689.7402]], device='cuda:0')\n",
       "xywhn: tensor([[0.6892, 0.3835, 0.2428, 0.5049]], device='cuda:0')\n",
       "xyxy: tensor([[1162.8545,  178.9779, 1660.0129,  868.7182]], device='cuda:0')\n",
       "xyxyn: tensor([[0.5678, 0.1310, 0.8106, 0.6360]], device='cuda:0')"
      ]
     },
     "execution_count": 10,
     "metadata": {},
     "output_type": "execute_result"
    }
   ],
   "source": [
    "res[0].boxes"
   ]
  },
  {
   "cell_type": "code",
   "execution_count": 2,
   "metadata": {},
   "outputs": [],
   "source": [
    "import faiss\n",
    "\n",
    "\n",
    "index = faiss.IndexFlatIP(128)\n",
    "index = faiss.IndexIDMap(index)"
   ]
  },
  {
   "cell_type": "code",
   "execution_count": 3,
   "metadata": {},
   "outputs": [],
   "source": [
    "def get_norm(vec):\n",
    "    return vec / np.linalg.norm(vec)\n"
   ]
  },
  {
   "cell_type": "code",
   "execution_count": 4,
   "metadata": {},
   "outputs": [
    {
     "name": "stdout",
     "output_type": "stream",
     "text": [
      "\n",
      "0: 640x640 1 face, 14.8ms\n",
      "Speed: 7.0ms preprocess, 14.8ms inference, 182.7ms postprocess per image at shape (1, 3, 640, 640)\n",
      "(128, 1)\n"
     ]
    }
   ],
   "source": [
    "ff1 = get_norm(get_face_feature('trump.jpg')[0])\n",
    "# index.add_with_ids(ff1, np.array([0]))"
   ]
  },
  {
   "cell_type": "code",
   "execution_count": 5,
   "metadata": {},
   "outputs": [
    {
     "name": "stdout",
     "output_type": "stream",
     "text": [
      "\n",
      "0: 640x640 1 face, 16.0ms\n",
      "Speed: 4.0ms preprocess, 16.0ms inference, 2.0ms postprocess per image at shape (1, 3, 640, 640)\n",
      "\n",
      "0: 448x640 1 face, 49.0ms\n",
      "Speed: 2.0ms preprocess, 49.0ms inference, 2.0ms postprocess per image at shape (1, 3, 448, 640)\n",
      "\n",
      "0: 640x448 1 face, 57.0ms\n",
      "Speed: 4.0ms preprocess, 57.0ms inference, 2.0ms postprocess per image at shape (1, 3, 640, 448)\n"
     ]
    }
   ],
   "source": [
    "\n",
    "ff2 = get_norm(get_face_feature('trump1.jpg')[0])\n",
    "dis2, _ = index.search(ff2, 1)\n",
    "ff3 = get_norm(get_face_feature('trump2.jpg')[0])\n",
    "dis3, _ = index.search(ff3, 1)\n",
    "ff4 = get_norm(get_face_feature('girl-1.jpg')[0])\n",
    "dis4, _ = index.search(ff4, 1)"
   ]
  },
  {
   "cell_type": "code",
   "execution_count": 6,
   "metadata": {},
   "outputs": [
    {
     "name": "stdout",
     "output_type": "stream",
     "text": [
      "[[    0.92361]] [[    0.93602]] [[    0.83565]]\n"
     ]
    }
   ],
   "source": [
    "print(dis2, dis3, dis4)"
   ]
  },
  {
   "cell_type": "code",
   "execution_count": 5,
   "metadata": {},
   "outputs": [
    {
     "name": "stderr",
     "output_type": "stream",
     "text": [
      "c:\\Users\\shann\\anaconda3\\envs\\SE\\lib\\site-packages\\tqdm\\auto.py:21: TqdmWarning: IProgress not found. Please update jupyter and ipywidgets. See https://ipywidgets.readthedocs.io/en/stable/user_install.html\n",
      "  from .autonotebook import tqdm as notebook_tqdm\n"
     ]
    }
   ],
   "source": []
  },
  {
   "cell_type": "code",
   "execution_count": 14,
   "metadata": {},
   "outputs": [],
   "source": [
    "model = InceptionResnetV1(pretrained='vggface2').eval().to('cuda')\n"
   ]
  },
  {
   "cell_type": "code",
   "execution_count": null,
   "metadata": {},
   "outputs": [
    {
     "name": "stdout",
     "output_type": "stream",
     "text": [
      "\n",
      "0: 640x640 1 face, 77.8ms\n",
      "Speed: 8.0ms preprocess, 77.8ms inference, 9.9ms postprocess per image at shape (1, 3, 640, 640)\n"
     ]
    }
   ],
   "source": [
    "import cv2\n",
    "from ultralytics import YOLO\n",
    "import os\n",
    "import matplotlib.pyplot as plt\n",
    "import dlib\n",
    "import numpy as np\n",
    "\n",
    "proj_path = os.path.abspath(os.path.join(os.getcwd(), '..'))\n",
    "predictor = dlib.shape_predictor(os.path.join(proj_path, 'data/weights/shape_predictor_68_face_landmarks.dat'))\n",
    "yolo_model = YOLO(os.path.join(proj_path, 'scripts/train_model/train2/weights/best.pt'))\n",
    "\n",
    "img = cv2.imread(os.path.join(proj_path, 'data/photos/' + 'trump.jpg'))\n",
    "img_rgb = cv2.cvtColor(img, cv2.COLOR_BGR2RGB)\n",
    "results = yolo_model(img_rgb)\n",
    "results_boxes = results[0].boxes\n",
    "x1, y1, x2, y2 = list(map(int, results_boxes.xyxy[0].tolist()))\n",
    "\n",
    "\n"
   ]
  },
  {
   "cell_type": "code",
   "execution_count": 15,
   "metadata": {},
   "outputs": [],
   "source": [
    "face = img_rgb[x1:x2, y1:y2]\n",
    "feature = model(torch.from_numpy(face).permute(2, 0, 1).unsqueeze(0).float().to('cuda'))"
   ]
  },
  {
   "cell_type": "code",
   "execution_count": 25,
   "metadata": {},
   "outputs": [],
   "source": [
    "feature = feature.cpu().detach().numpy()\n"
   ]
  },
  {
   "cell_type": "code",
   "execution_count": 30,
   "metadata": {},
   "outputs": [
    {
     "name": "stdout",
     "output_type": "stream",
     "text": [
      "-0.12359458\n"
     ]
    }
   ],
   "source": [
    "feature = feature / np.linalg.norm(feature)\n",
    "print(np.min(feature))"
   ]
  }
 ],
 "metadata": {
  "kernelspec": {
   "display_name": "SE",
   "language": "python",
   "name": "python3"
  },
  "language_info": {
   "codemirror_mode": {
    "name": "ipython",
    "version": 3
   },
   "file_extension": ".py",
   "mimetype": "text/x-python",
   "name": "python",
   "nbconvert_exporter": "python",
   "pygments_lexer": "ipython3",
   "version": "3.10.15"
  }
 },
 "nbformat": 4,
 "nbformat_minor": 2
}
