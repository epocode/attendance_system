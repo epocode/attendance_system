{
 "cells": [
  {
   "cell_type": "code",
   "execution_count": 1,
   "metadata": {},
   "outputs": [],
   "source": [
    "from PySide6.QtSql import QSqlDatabase\n",
    "from mysql import connector\n",
    "\n",
    "conn = connector.connect(    \n",
    "    host='localhost',\n",
    "    database='attendance_system',\n",
    "    user='root',\n",
    "    password='root')\n",
    "\n",
    "cursor = conn.cursor()\n",
    "\n"
   ]
  },
  {
   "cell_type": "code",
   "execution_count": 2,
   "metadata": {},
   "outputs": [
    {
     "data": {
      "text/plain": [
       "[('class1',), ('class2',), ('class3',), ('new_table',), ('table_fk',)]"
      ]
     },
     "execution_count": 2,
     "metadata": {},
     "output_type": "execute_result"
    }
   ],
   "source": [
    "query = '''\n",
    "        SHOW TABLES'''\n",
    "\n",
    "cursor.execute(query)\n",
    "result = cursor.fetchall()\n",
    "result"
   ]
  },
  {
   "cell_type": "code",
   "execution_count": 5,
   "metadata": {},
   "outputs": [],
   "source": [
    "create_table_query = ''' \n",
    "    CREATE TABLE class2 (\n",
    "    id INT AUTO_INCREMENT PRIMARY KEY,\n",
    "    name VARCHAR(100),\n",
    "    gender ENUM('male', 'female'),\n",
    "    age INT(3));'''\n",
    "\n",
    "cursor.execute(create_table_query)"
   ]
  },
  {
   "cell_type": "code",
   "execution_count": 15,
   "metadata": {},
   "outputs": [],
   "source": [
    "query = \"\"\"\n",
    "        SELECT COUNT(*)\n",
    "        FROM INFORMATION_SCHEMA.COLUMNS\n",
    "        WHERE table_name = 'class1';\n",
    "\"\"\"\n",
    "table = 'class1'\n",
    "cursor.execute('SELECT COUNT(*) FROM %s' %  table)\n",
    "results = cursor.fetchone()\n"
   ]
  },
  {
   "cell_type": "code",
   "execution_count": 14,
   "metadata": {},
   "outputs": [
    {
     "name": "stdout",
     "output_type": "stream",
     "text": [
      "(4,)\n"
     ]
    }
   ],
   "source": [
    "print(results)"
   ]
  },
  {
   "cell_type": "code",
   "execution_count": null,
   "metadata": {},
   "outputs": [],
   "source": [
    "table_name = 'class1'\n",
    "cursor.execute(\"\"\"\n",
    "    SELECT COLUMN_NAME\n",
    "    FROM INFORMATION_SCHEMA.COLUMNS\n",
    "    WHERE TABLE_NAME = '%s'\n",
    "\"\"\" % table_name)\n",
    "\n",
    "# 获取列名\n",
    "\n"
   ]
  },
  {
   "cell_type": "code",
   "execution_count": 19,
   "metadata": {},
   "outputs": [],
   "source": [
    "table_name = 'class1'\n",
    "sql =f\"INSERT INTO {table_name} (name, gender, age) VALUES(%s, %s, %s)\"\n",
    "cursor.execute(sql, [ 'e', 'male', 18])  \n"
   ]
  },
  {
   "cell_type": "code",
   "execution_count": 18,
   "metadata": {},
   "outputs": [
    {
     "name": "stdout",
     "output_type": "stream",
     "text": [
      "[(1, 'a', 'female', 18), (2, 'b', 'male', 18), (3, 'c', 'male', 18), (4, 'd', 'male', 18)]\n"
     ]
    }
   ],
   "source": [
    "cursor.execute('SELECT * FROM class1')\n",
    "results = cursor.fetchall()\n",
    "print(results)"
   ]
  },
  {
   "cell_type": "code",
   "execution_count": 20,
   "metadata": {},
   "outputs": [
    {
     "data": {
      "text/plain": [
       "5"
      ]
     },
     "execution_count": 20,
     "metadata": {},
     "output_type": "execute_result"
    }
   ],
   "source": [
    "# conn.commit()\n",
    "insert_id  = cursor.lastrowid \n",
    "insert_id"
   ]
  },
  {
   "cell_type": "code",
   "execution_count": 5,
   "metadata": {},
   "outputs": [
    {
     "name": "stdout",
     "output_type": "stream",
     "text": [
      "查询向量的索引：\n",
      "[[172 239 661]]\n",
      "查询向量的距离：\n",
      "[[6.644008  7.1652584 7.1996493]]\n"
     ]
    }
   ],
   "source": [
    "import numpy as np\n",
    "import faiss\n",
    "\n",
    "# 创建一个简单的向量数据集\n",
    "d = 64  # 向量维度\n",
    "nb = 1000  # 向量数量\n",
    "nq = 1  # 查询向量的数量\n",
    "\n",
    "# 随机生成 1000 个 64 维的向量\n",
    "xb = np.random.random((nb, d)).astype('float32')\n",
    "\n",
    "# 随机生成 5 个查询向量\n",
    "xq = np.random.random((nq, d)).astype('float32')\n",
    "\n",
    "# 创建 Faiss 索引\n",
    "index = faiss.IndexFlatL2(d)  # 使用 L2 距离度量\n",
    "\n",
    "# 将向量数据添加到索引中\n",
    "index.add(xb)\n",
    "\n",
    "# 进行相似度搜索，返回最接近的 3 个向量\n",
    "k = 3  # 取 3 个最接近的向量\n",
    "distances, indices = index.search(xq, k)\n",
    "\n",
    "# 输出查询结果\n",
    "print(\"查询向量的索引：\")\n",
    "print(indices)\n",
    "print(\"查询向量的距离：\")\n",
    "print(distances)\n"
   ]
  },
  {
   "cell_type": "code",
   "execution_count": 6,
   "metadata": {},
   "outputs": [
    {
     "data": {
      "text/plain": [
       "(1, 3)"
      ]
     },
     "execution_count": 6,
     "metadata": {},
     "output_type": "execute_result"
    }
   ],
   "source": [
    "indices.shape"
   ]
  },
  {
   "cell_type": "code",
   "execution_count": null,
   "metadata": {},
   "outputs": [],
   "source": []
  }
 ],
 "metadata": {
  "kernelspec": {
   "display_name": "SE",
   "language": "python",
   "name": "python3"
  },
  "language_info": {
   "codemirror_mode": {
    "name": "ipython",
    "version": 3
   },
   "file_extension": ".py",
   "mimetype": "text/x-python",
   "name": "python",
   "nbconvert_exporter": "python",
   "pygments_lexer": "ipython3",
   "version": "3.10.15"
  }
 },
 "nbformat": 4,
 "nbformat_minor": 2
}
