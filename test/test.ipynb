{
 "cells": [
  {
   "cell_type": "code",
   "execution_count": 3,
   "metadata": {},
   "outputs": [
    {
     "name": "stderr",
     "output_type": "stream",
     "text": [
      "C:\\Users\\shann\\AppData\\Local\\Temp\\ipykernel_10088\\1872305724.py:46: DeprecationWarning: The 'text' argument to find()-type methods is deprecated. Use 'string' instead.\n",
      "  script_tag = soup.find('script', text=re.compile(r'_showDynClicks\\(\"wbnews\",'))\n"
     ]
    },
    {
     "data": {
      "text/plain": [
       "'未知'"
      ]
     },
     "execution_count": 3,
     "metadata": {},
     "output_type": "execute_result"
    }
   ],
   "source": [
    "import requests\n",
    "from bs4 import BeautifulSoup\n",
    "import re\n",
    "\n",
    "def crawl_scu_teachers():\n",
    "    # 1. 第一个网页（列表页）的URL\n",
    "    list_url = 'https://cs.scu.edu.cn/szdw/rgznx.htm'\n",
    "    resp = requests.get(list_url)\n",
    "    resp.encoding = 'utf-8'  # 防止中文乱码\n",
    "    soup = BeautifulSoup(resp.text, 'html.parser')\n",
    "\n",
    "    # 2. 找到所有人的 <li>，提取姓名与详情链接\n",
    "    #    你需要根据实际HTML结构，找到存放教师信息的那一段 <ul>/<li>。\n",
    "    #    以下示例假设每个教师的 <li> 中有 <a> 标签。\n",
    "    li_tags = soup.find_all('li')\n",
    "    \n",
    "    # 为了避免误抓，可以先过滤出真正包含“教师个人主页链接”的 li\n",
    "    # 你也可以用更加精确的查找方式，比如 soup.select('ul.xxx > li') 等\n",
    "    teacher_links = []\n",
    "    for li in li_tags:\n",
    "        a_tag = li.find('a')\n",
    "        if a_tag and a_tag.get('href', '').endswith('.htm'):\n",
    "            # 假设 <a> 标签文本就是人名\n",
    "            name = a_tag.get_text(strip=True)\n",
    "            relative_url = a_tag['href']\n",
    "            # 拼接详情页URL\n",
    "            # 如果链接是 \"../info/1288/18682.htm\" 这种形式，需要手动拼上域名\n",
    "            full_url = 'https://cs.scu.edu.cn' + relative_url.replace('..', '')\n",
    "            teacher_links.append((name, full_url))\n",
    "    \n",
    "    # 3. 依次访问每个教师详情页，获取浏览量\n",
    "    for name, person_url in teacher_links:\n",
    "        views = get_view_count(person_url)\n",
    "        print(f'{name}：{views}')\n",
    "\n",
    "def get_view_count(url):\n",
    "    \"\"\"\n",
    "    给定某位老师详情页 URL，返回浏览量（若未找到则返回 '未知'）。\n",
    "    \"\"\"\n",
    "    try:\n",
    "        resp = requests.get(url)\n",
    "        resp.encoding = 'utf-8'\n",
    "        soup = BeautifulSoup(resp.text, 'html.parser')\n",
    "        \n",
    "        # 方式一：根据 script 标签的文本中包含 _showDynClicks(\"wbnews\" 来找\n",
    "        script_tag = soup.find('script', text=re.compile(r'_showDynClicks\\(\"wbnews\",'))\n",
    "        if not script_tag:\n",
    "            return '未知'\n",
    "        \n",
    "        # 方式二：找到 script 标签后，再找它的下一个兄弟标签 <span>（通常就是浏览次数）\n",
    "        span_tag = script_tag.find_next_sibling('span')\n",
    "        if not span_tag:\n",
    "            return '未知'\n",
    "        \n",
    "        # 获取 span 文本，并去掉可能的 “次” 字\n",
    "        view_text = span_tag.get_text(strip=True)\n",
    "        # 如果末尾有“次”，可去掉\n",
    "        view_text = view_text.replace('次', '').strip()\n",
    "        \n",
    "        return view_text\n",
    "    except Exception as e:\n",
    "        print(f'获取 {url} 时出错: {e}')\n",
    "        return '未知'\n",
    "\n",
    "\n",
    "get_view_count('https://cs.scu.edu.cn/szdw/rgznx/202012/t20201207_619515.htm')"
   ]
  }
 ],
 "metadata": {
  "kernelspec": {
   "display_name": "base",
   "language": "python",
   "name": "python3"
  },
  "language_info": {
   "codemirror_mode": {
    "name": "ipython",
    "version": 3
   },
   "file_extension": ".py",
   "mimetype": "text/x-python",
   "name": "python",
   "nbconvert_exporter": "python",
   "pygments_lexer": "ipython3",
   "version": "3.11.7"
  }
 },
 "nbformat": 4,
 "nbformat_minor": 2
}
