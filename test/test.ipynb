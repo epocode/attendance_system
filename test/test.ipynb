{
 "cells": [
  {
   "cell_type": "code",
   "execution_count": 3,
   "metadata": {},
   "outputs": [
    {
     "name": "stdout",
     "output_type": "stream",
     "text": [
      "camera 0 is available\n",
      "camera 1 is available\n",
      "camera 2 is available\n"
     ]
    }
   ],
   "source": [
    "import cv2\n",
    "\n",
    "idx = 0\n",
    "while True:\n",
    "    cap = cv2.VideoCapture(idx)\n",
    "    if not cap.isOpened():\n",
    "        break\n",
    "    cap.release()\n",
    "    print(f\"camera {idx} is available\") \n",
    "    idx += 1\n",
    "\n",
    "\n"
   ]
  }
 ],
 "metadata": {
  "kernelspec": {
   "display_name": "SE",
   "language": "python",
   "name": "python3"
  },
  "language_info": {
   "codemirror_mode": {
    "name": "ipython",
    "version": 3
   },
   "file_extension": ".py",
   "mimetype": "text/x-python",
   "name": "python",
   "nbconvert_exporter": "python",
   "pygments_lexer": "ipython3",
   "version": "3.10.15"
  }
 },
 "nbformat": 4,
 "nbformat_minor": 2
}
